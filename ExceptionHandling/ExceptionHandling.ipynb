{
 "cells": [
  {
   "cell_type": "markdown",
   "id": "fa4a6c3d",
   "metadata": {},
   "source": [
    "<link rel=\"stylesheet\" href=\"style.css\">\n",
    "<!-- add a div to make bg white -->\n",
    "<div class=\"card cover-card\" dir=\"rtl\">\n",
    "    <p class=\"pretitle\">به نام خدا</p>\n",
    "    <div class=\"brand-center\">\n",
    "      <img src=\"img/Sbu-logo.png\" alt=\"SBU Logo\" class=\"logo\" />\n",
    "    </div>\n",
    "    <h1 class=\"title\">برنامه‌سازی پیشرفته</h1>\n",
    "    <p class=\"inst\">دانشگاه شهید بهشتی · دانشکده مهندسی کامپیوتر</p>\n",
    "    <p class=\"inst\">دکتر مجتبی وحیدی اصل</p>\n",
    "    <hr class=\"divider\" />\n",
    "    <h3>مدیریت استثنائات</h3>\n",
    "    <div class=\"authors\">سارا شیری</div>\n",
    "    <br></br>\n",
    "</div>"
   ]
  },
  {
   "cell_type": "markdown",
   "id": "17f45659",
   "metadata": {},
   "source": [
    "\n",
    "<link rel=\"stylesheet\" href=\"style.css\">\n",
    "<div class=\"card bold\" dir=\"rtl\">\n",
    "  <h2>فهرست مطالب</h2>\n",
    "  <ol>\n",
    "    <li>استثنا چیست؟</li>\n",
    "    <li>مقدمه‌ای بر مدیریت استثنائات</li>\n",
    "    <li>انواع استثنا و تفاوت‌های آن</li>\n",
    "    <li>کلیدواژه‌های مهم در مدیریت استثنائات</li>\n",
    "    <li>انتشار استثنا</li>\n",
    "    <li>مدیریت استثنا در هنگام بازنویسی متد</li>\n",
    "    <li>طراحی استثنا توسط برنامه‌نویس</li>\n",
    "  </ol>\n",
    "</div>"
   ]
  },
  {
   "cell_type": "markdown",
   "id": "fd58cff2",
   "metadata": {},
   "source": [
    "<link rel=\"stylesheet\" href=\"style.css\">\n",
    "<div class=\"card\" dir=\"rtl\">\n",
    "  <h3>امروز چه می‌آموزیم؟</h3>\n",
    "  <p>مدیریت استثنائات یک سازوکار قدرتمند برای مدیریت (هندل کردن) خطاهای زمان اجرا است تا در نتیجه این سازوکار، برنامه در مسیر نرمال به اجرای خود ادامه دهد.\n",
    "در این درس، درباره استثنائات جاوا، انواع آن و تفاوت میان استثنائات چک شده و چک نشده صحبت خواهیم کرد.\n",
    "  </p>\n",
    "<hr class=\"divider\" />\n",
    "\n",
    "  <h3>استثنا چیست؟</h3>\n",
    "  <p>\n",
    "  <strong>مفهوم لغوی استثنا:</strong> به شرایط غیر عادی، استثنا گفته می‌شود.\n",
    "  </p>\n",
    "  <p>\n",
    "  در جاوا، استثنا به رویدادی گفته می‌شود که جریان عادی برنامه را مختل می‌کند. استثنا در حقیقت شی‌ای است که در زمان اجرا پرتاب یا به اصطلاح throw می‌شود!\n",
    "  </p>\n",
    "  <p>\n",
    "  <strong>مفهوم مدیریت استثنا:</strong> مدیریت استثنا، سازوکاری برای مدیریت خطاهای زمان اجرا نظیر ClassNotFound , IO , SQL , Remote و … می‌باشد.\n",
    "  </p>\n",
    "  <p>\n",
    "  مدیریت استثنا به ما امکان می‌دهد برنامه‌هایی بنویسیم که قادر به هندل کردن یا رفع کردن استثناهای محتمل به وقوع هستند.\n",
    "  </p>\n",
    "  <p>\n",
    "  بنابراین اجرای برنامه به گونه‌ای ادامه می‌یابد که انگار استثنایی به وقوع نپیوسته است.\n",
    "  </p>\n",
    "  <hr class=\"divider\" />\n",
    "  <h3>چند مثال از استثناها</h3>\n",
    "  <p> <strong>\n",
    "  یک استثنا ممکن است به دلایل مختلفی شامل موارد زیر اتفاق بیوفتد: \n",
    "  </strong></p>\n",
    "  <p>\n",
    "  کاربر یک داده غیر مجاز وارد کند.\n",
    "  </p>\n",
    "  <p>\n",
    "  فایلی که می‌خواهیم باز کنیم، پیدا نشود.\n",
    "  </p>\n",
    "  <p>\n",
    "  اتصال یک شبکه در میانه ارتباط قطع شود.\n",
    "  </p>\n",
    "  <p>\n",
    "  JVM حافظه کافی نداشته باشد.\n",
    "  </p>\n",
    "  <hr class=\"divider\" />\n",
    "  <p>\n",
    "  برخی از این استثنائات به سبب اشتباه کاربر رخ می‌دهند. برخی دیگر به اشتباه برنامه‌نویس مربوط می‌شوند و دلیل بروز برخی دیگر منابع فیزیکی و سیستمی هستند که به شکل‌های مختلف، دچار اشکال در عملکرد شده‌اند.\n",
    "  </p>\n",
    "<hr class=\"divider\" />\n",
    "<img src=\"img/ThrowException.png\" alt=\"Throw Exception\" />\n",
    "<hr class=\"divider\" />\n",
    "\n",
    "<h3>مزیت مدیریت استثنا</h3>\n",
    "<p>\n",
    "مزیت اصلی مدیریت استثنائات، حفظ جریان طبیعی برنامه می‌باشد. سناریوی زیر را در نظر بگیرید:\n",
    "</p>\n",
    "<p>\n",
    "فرض کنید در برنامه، 10 دستور داشته باشیم و در دستور پنجم استثنایی رخ دهد، در نتیجه این استثنا، در بیشتر مواقع باقی کد (دستورات 6 تا 10) اجرا نخواهد شد. اگر از مدیریت استثنا استفاده کنیم، ادامه کد اجرا خواهد شد.\n",
    "</p>\n",
    "<p>\n",
    "به همین دلیل است که از مدیریت استثنائات استفاده می‌کنیم.\n",
    "</p>\n",
    "<p style=\"text-align: left;\"><code>;statement 1</code> </p>\n",
    "<p style=\"text-align: left;\"><code>;statement 2</code> </p>\n",
    "<p style=\"text-align: left;\"><code>;statement 3</code> </p>\n",
    "<p style=\"text-align: left;\"><code>;statement 4</code> </p>\n",
    "<p style=\"text-align: left;\"><code>statement 5; //exception occurs</code> </p>\n",
    "<p style=\"text-align: left;\"><code>;statement 6</code> </p>\n",
    "<p style=\"text-align: left;\"><code>;statement 7</code> </p>\n",
    "<p style=\"text-align: left;\"><code>;statement 8</code> </p>\n",
    "<p style=\"text-align: left;\"><code>;statement 9</code> </p>\n",
    "<p style=\"text-align: left;\"><code>;statement 10</code> </p>\n",
    "\n",
    "<hr class=\"divider\" />\n",
    "\n",
    "<h3>سوال‌هایی که ممکن است برایتان پیش بیاید!</h3>\n",
    "<p>استثناهای چک شده و چک نشده چه تفاوتی باهم دارند؟</p>\n",
    "<p>در پس کد<code> \";int data = 50/0\"</code> چه اتفاقی می‌افتد؟</p>\n",
    "<p>چرا از چندین بلاک catch استفاده می‌کنیم؟</p>\n",
    "<p>آیا ممکن است بلاک finally اجرا نشود؟</p>\n",
    "<p>انتشار استثنا (Exception propagation) به چه معناست؟</p>\n",
    "<p>تفاوت میان کلمه کلیدی throw و throws در چیست؟</p>\n",
    "<p>چهار قاعده برای مدیریت استثنا در هنگام بازنویسی متد کدامند؟</p>\n",
    "<hr class=\"divider\" />"
   ]
  },
  {
   "cell_type": "markdown",
   "id": "fcb98a89",
   "metadata": {},
   "source": [
    "<link rel=\"stylesheet\" href=\"style.css\">\n",
    "<div class=\"card\" dir=\"rtl\">\n",
    "   <h3>برنامه‌ای بدون مدیریت استثنائات</h3>"
   ]
  },
  {
   "cell_type": "code",
   "execution_count": null,
   "id": "c658f433",
   "metadata": {
    "vscode": {
     "languageId": "plaintext"
    }
   },
   "outputs": [],
   "source": [
    "// DivideByZeroNoExceptionHandling.java\n",
    "// Integer division without exception handling.\n",
    "import java.util.Scanner;\n",
    "\n",
    "public class DivideByZeroNoExceptionHandling\n",
    "{\n",
    "   // demonstrates throwing an exception when a divide-by-zero occurs\n",
    "   public static int quotient( int numerator, int denominator )\n",
    "   {\n",
    "      return numerator / denominator; // possible division by zero\n",
    "   } // end method quotient\n",
    "\n",
    "   public static void main( String[] args )\n",
    "   {\n",
    "      Scanner scanner = new Scanner( System.in ); // scanner for input\n",
    "\n",
    "      System.out.print( \"Please enter an integer numerator: \" );\n",
    "      int numerator = scanner.nextInt();\n",
    "      System.out.print( \"Please enter an integer denominator: \" );\n",
    "      int denominator = scanner.nextInt();\n",
    "\n",
    "      int result = quotient( numerator, denominator );\n",
    "      System.out.printf( \n",
    "         \"\\nResult: %d / %d = %d\\n\", numerator, denominator, result );\n",
    "   } // end main\n",
    "} // end class DivideByZeroNoExceptionHandling\n"
   ]
  },
  {
   "cell_type": "markdown",
   "id": "96e7b4d7",
   "metadata": {},
   "source": [
    "<link rel=\"stylesheet\" href=\"style.css\">\n",
    "<div class=\"card\" dir=\"rtl\">\n",
    "   <h3>برنامه‌ای با مدیریت استثنائات</h3>"
   ]
  },
  {
   "cell_type": "code",
   "execution_count": null,
   "id": "96d5a0fc",
   "metadata": {
    "vscode": {
     "languageId": "plaintext"
    }
   },
   "outputs": [],
   "source": [
    "import java.util.InputMismatchException;\n",
    "import java.util.Scanner;\n",
    "\n",
    "public class DivideByZeroWithExceptionHandling\n",
    "{\n",
    "   // demonstrates throwing an exception when a divide-by-zero occurs\n",
    "   public static int quotient( int numerator, int denominator )\n",
    "   {\n",
    "      return numerator / denominator; // possible division by zero\n",
    "   } // end method quotient\n",
    "\n",
    "   public static void main( String[] args )\n",
    "   {\n",
    "      Scanner scanner = new Scanner( System.in ); // scanner for input\n",
    "      boolean continueLoop = true; // determines if more input is needed\n",
    "\n",
    "      do\n",
    "      {\n",
    "         try\n",
    "         {\n",
    "            System.out.print( \"Please enter an integer numerator: \" );\n",
    "            int numerator = scanner.nextInt();\n",
    "            System.out.print( \"Please enter an integer denominator: \" );\n",
    "            int denominator = scanner.nextInt();\n",
    "\n",
    "            int result = quotient( numerator, denominator );\n",
    "            System.out.printf(\n",
    "               \"\\nResult: %d / %d = %d\\n\", numerator, denominator, result );\n",
    "            continueLoop = false; // input successful; end looping\n",
    "         } // end try\n",
    "         catch ( InputMismatchException inputMismatchException )\n",
    "         {\n",
    "            System.err.printf( \"\\nException: %s\\n\",\n",
    "               inputMismatchException );\n",
    "            scanner.nextLine(); // discard input so user can try again\n",
    "            System.out.println(\n",
    "               \"You must enter integers. Please try again.\\n\" );\n",
    "         } // end catch\n",
    "         catch ( ArithmeticException arithmeticException )\n",
    "         {\n",
    "            System.err.printf( \"\\nException: %s\\n\", arithmeticException );\n",
    "            System.out.println(\n",
    "               \"Zero is an invalid denominator. Please try again.\\n\" );\n",
    "         } // end catch\n",
    "      } while ( continueLoop ); // end do...while\n",
    "   } // end main\n",
    "} // end class DivideByZeroWithExceptionHandling\n"
   ]
  },
  {
   "cell_type": "markdown",
   "id": "ca4ac5de",
   "metadata": {},
   "source": [
    "<link rel=\"stylesheet\" href=\"style.css\">\n",
    "<div class=\"card\" dir=\"rtl\">\n",
    "  <h3>بخشی از ساختار سلسله مراتبی کلاس‌های Exception</h3>\n",
    "\n",
    "  <img src=\"img/Exception.png\" alt=\"Exception\" />\n",
    "  <hr class=\"divider\" />\n",
    "  <h3>متدهای Throwable</h3>\n",
    "  <img src=\"img/Throwable.png\" alt=\"Throwable\" />\n",
    "  <hr class=\"divider\" />\n",
    "\n"
   ]
  },
  {
   "cell_type": "markdown",
   "id": "7243d0e7",
   "metadata": {},
   "source": [
    "<link rel=\"stylesheet\" href=\"style.css\">\n",
    "<div class=\"card\" dir=\"rtl\">\n",
    "  <h3>انواع استثنا</h3>\n",
    "  <p>\n",
    " به طور کلی دو نوع استثنا وجود دارد. <strong>استثنای چک شده</strong> و <strong>استثنای چک نشده</strong>. به طوری که error یک استثنای چک نشده به حساب می‌آید.\n",
    "  </p>\n",
    "  <p>\n",
    "  طبق دسته‌بندی شرکت مایکروسیستم Sun، استثناها به سه دسته تقسیم می‌شوند:\n",
    "  </p>\n",
    "  <p style=\"text-align: left;\"> Checked Exception </p>\n",
    "  <p style=\"text-align: left;\"> Unchecked Exception </p>\n",
    "  <p style=\"text-align: left;\"> Error </p>\n",
    "\n",
    "<p>                                                      ‌‌</p>\n",
    "  <p><strong>1 - استثنای چک شده:</strong> استثنایی است که عموما نه به سبب اشتباه برنامه‌نویس بلکه به سبب مشکلی که برنامه‌نویس نمی‌توانسته آن را پیشبینی کند، رخ داده است.\n",
    "  </p>\n",
    "  <p>\n",
    "  برای مثال اگر فایلی را که می‌خواهیم باز کنیم، پیدا نشود استثنای چک شده رخ می‌دهد! این نوع استثنا نمی‌تواند در زمان کامپایل مورد بی‌توجهی قرار گیرد.\n",
    "</p>\n",
    "<p>\n",
    "کلاس‌هایی که از کلاس Throwable ارث‌بری می‌کنند به غیر از Runtime Exception و Error، <strong>استثناهای چک شده</strong> نامیده می‌شوند. برای مثال: IOException , SQLException و غیره. استثناهای چک شده <strong>در زمان کامپایل</strong> چک می‌شوند.\n",
    "</p>\n",
    "\n",
    "<p>                                                      ‌‌</p>\n",
    "\n",
    "<p>\n",
    "<strong>2 -</strong> کلاس‌هایی که از RuntimeException ارث‌بری می‌کنند، <strong>استثناهای چک نشده</strong> نامیده می‌شوندو برای مثال ArithmeticException, NullPointerException, ArrayIndexOutOfBoundsException و غیره. این استثناها به جای بررسی در زمان کامپایل، <strong>در زمان اجرا</strong> چک می‌شوند.\n",
    "</p>\n",
    "<p>\n",
    "جلوی بروز این نوع استثنائات می‌تواند توسط برنامه‌نویس گرفته شود.\n",
    "</p>\n",
    "\n",
    "<p>                                                      ‌‌</p>\n",
    "<p>\n",
    "<strong>3 - خطا</strong> (error) غیر قابل ترمیم است. برای مثال OutOfMemoryError, VirtualMachineError, AssertionError.\n",
    "</p>\n",
    "<p>\n",
    "خطاها <strong>خارج از کنترل برنامه‌نویس</strong> هستند و در زمان کامپایل بررسی نمی‌شوند.\n",
    "</p>\n",
    "\n",
    " <hr class=\"divider\" />\n",
    "\n",
    " <h3>مواقعی که استثناهای چک نشده می‌تواند رخ دهد</h3>\n",
    "\n",
    "  <p>مواقعی که<strong> ArithmeticException </strong>رخ می‌دهد:</p>\n",
    "  <p>\n",
    "  اگر عددی تقسیم بر صفر شود، ArithmeticException رخ می‌دهد.\n",
    "  </p>\n",
    "  <p style=\"text-align: left;\"><code>int a = 50/0; //ArithmeticException</code> </p>\n",
    "  <p>                                                      ‌‌</p>\n",
    "\n",
    "  <p>مواقعی که<strong> NullPointerException </strong>رخ می‌دهد:</p>\n",
    "  <p>\n",
    "  هرگاه مقدار یک متغیر، null باشد، انجام هر عملیاتی توسط آن متغیر منجر به استثنای NullPointerException خواهد شد.\n",
    "  </p>\n",
    "  <p style=\"text-align: left;\"><code>;String s = null </code></p>\n",
    "  <p style=\"text-align: left;\"><code>System.out.println(s.length()); //NullPointerException</code></p>\n",
    "  <p>                                                      ‌‌</p>\n",
    "\n",
    "  <p>مواقعی که<strong> NumberFormatException </strong>رخ می‌دهد:</p>\n",
    "  <p>\n",
    "  فرمت نادرست هر مقدار، منجر به NumberFormatException می‌شود.\n",
    "  </p>\n",
    "  <p>\n",
    "  فرض کنید یک متغیر از نوع رشته (String) داشته باشیم که به جای کاراکترهای رقمی از کاراکترهای حرفی تشکیل شده است.  تبدیل این متغیر به عدد منجر به استثنای NumberFormatException خواهد شد.\n",
    "  </P>\n",
    "  <p style=\"text-align: left;\"><code>;\"String s = \"abc </code></p>\n",
    "  <p style=\"text-align: left;\"><code>int i = Integer.parseInt(s); //NumberFormatException</code></p>\n",
    "  <p>                                                      ‌‌</p>\n",
    "\n",
    "  <p>مواقعی که<strong> ArrayIndexOutOfBoundsException </strong>رخ می‌دهد:</p>\n",
    "  <p>\n",
    "  هرگاه مقداری را در اندیسی نادرست از یک آرایه (یا ساختار مشابه) قرار دهیم، منجر به ArrayIndexOutOfBoundsException خواهد شد.\n",
    "  </p>\n",
    "  <p style=\"text-align: left;\"><code>;int a[] = new int[5] </code></p>\n",
    "  <p style=\"text-align: left;\"><code>a[10] = 50; //ArrayIndexOutOfBoundsException</code></p>\n",
    " <hr class=\"divider\" />"
   ]
  },
  {
   "cell_type": "markdown",
   "id": "3ab40ec4",
   "metadata": {},
   "source": [
    "<link rel=\"stylesheet\" href=\"style.css\">\n",
    "<div class=\"card\" dir=\"rtl\">\n",
    "<h3>واژه‌های رایج در مدیریت استثنائات</h3>\n",
    "\n",
    "<p>\n",
    "5 کلمه کلیدی که در مدیریت استثنائات استفاده می‌شوند:\n",
    "</p>\n",
    "\n",
    "<p style=\"text-align: left;\">try</p>\n",
    "<p style=\"text-align: left;\">catch</p>\n",
    "<p style=\"text-align: left;\">finally</p>\n",
    "<p style=\"text-align: left;\">throw</p>\n",
    "<p style=\"text-align: left;\">throws</p>\n",
    "\n",
    "<hr class=\"divider\" />\n",
    "\n",
    "<h3>بلاک try</h3>\n",
    "<p>\n",
    "کدی که ممکن است منجر به بروز (پرتاب) یک استثنا شود را در بلاک try قرار دهید. این بلاک باید درون متد قرار گیرد و باید در ادامه آن یک بلاک catch یا finally بیاید. سایر بخش‌های کد که اطمینان داریم در آنها استثنا رخ نمی‌دهد را بعد از catch قرار می‌دهیم.\n",
    "</p>\n",
    "<p>\n",
    "ساختار try با بلاک catch: \n",
    "</p>\n",
    "<p style=\"text-align: left;\"><code>}try</code></p>\n",
    "<p style=\"text-align: left;\"><code>...</code></p>\n",
    "<p style=\"text-align: left;\"><code>{}catch(Exception_class_Name refrence){</code></p>\n",
    "<p>\n",
    "ساختار try با بلاک finally:\n",
    "</p>\n",
    "<p style=\"text-align: left;\"><code>}try</code></p>\n",
    "<p style=\"text-align: left;\"><code>...</code></p>\n",
    "<p style=\"text-align: left;\"><code>{}finally{</code></p>\n",
    "<hr class=\"divider\" />\n",
    "\n",
    "<h3>بلاک catch</h3>\n",
    "<p>\n",
    "بلاک catch برای هندل کردن Exception استفاده می‌شود. این بلاک باید پس از بلاک try قرار داده شود.\n",
    "</p>\n",
    "<p>\n",
    "برنامه زیر که یک برنامه بدون مدیریت استثنائات است را ببینید:\n",
    "</p>"
   ]
  },
  {
   "cell_type": "code",
   "execution_count": null,
   "id": "278d07d2",
   "metadata": {
    "vscode": {
     "languageId": "plaintext"
    }
   },
   "outputs": [],
   "source": [
    "public class Testtrycatch1{\n",
    "    public static void main(String args[]){\n",
    "        int data = 50/0;\n",
    "\n",
    "        System.out.println(\"rest of the code...\");\n",
    "    }\n",
    "}"
   ]
  },
  {
   "cell_type": "markdown",
   "id": "d5a18d09",
   "metadata": {},
   "source": [
    "<link rel=\"stylesheet\" href=\"style.css\">\n",
    "<div class=\"card\" dir=\"rtl\">\n",
    "<p>\n",
    "همانطور که می‌بینید، باقی کد یعنی چاپ رشته \"the rest of code\" اجرا نمی‌شود. در ادامه می‌بینیم که در پس این کد چه می‌گذرد!\n",
    "</p>\n",
    "<hr class=\"divider\" />\n",
    "<h3>پشت صحنه اجرای کد \";int a = 50/0\"</h3>\n",
    "\n",
    "<img src=\"img/code50.png\" alt=\"Arithmetic excception\" />\n",
    "<hr class=\"divider\" />\n",
    "\n",
    "<p>\n",
    "JVM ابتدا بررسی می‌کند که آیا استثنا، مدیریت شده است یا خیر. اگر مدیریت نشده باشد، JVM یک اداره کننده پیش‌فرض برای استثنا در نظر می‌گیرد که کارهای زیر را انجام دهد:\n",
    "</p>\n",
    "<p>\n",
    "توضیحی راجع به استثنا را چاپ می‌کند.\n",
    "</p>\n",
    "<p>\n",
    "رد پشته را چاپ می‌کند (سلسله مراتبی از متدها که استثنا در آن رخ داده است).\n",
    "</p>\n",
    "<p>\n",
    "اجرای برنامه را خاتمه می‌دهد.\n",
    "</p>\n",
    "<p>\n",
    "اما در صورتی که استثنا توسط برنامه‌نویس مدیریت شود، جریان عادی برنامه حفظ خواهد شد و باقی‌مانده کد اجرا می‌شود.\n",
    "</p>\n",
    "<hr class=\"divider\" />"
   ]
  },
  {
   "cell_type": "markdown",
   "id": "e772bdb7",
   "metadata": {},
   "source": [
    "<link rel=\"stylesheet\" href=\"style.css\">\n",
    "<div class=\"card\" dir=\"rtl\">\n",
    "<h3>مثال استفاده از بلاک try-catch</h3>\n",
    "<p>\n",
    "دقت کنید که بخشی از کد را که مطمئنیم استثنایی در آن رخ نمی‌دهد، بعد از بلاک catch بنویسیم.\n",
    "</p>"
   ]
  },
  {
   "cell_type": "code",
   "execution_count": null,
   "id": "c02b7d5e",
   "metadata": {
    "vscode": {
     "languageId": "plaintext"
    }
   },
   "outputs": [],
   "source": [
    "public class Testtrycatch2{\n",
    "    public static void main(String args[]){\n",
    "        try{\n",
    "            int data = 50/0;\n",
    "        }catch(ArithmeticException e) {\n",
    "            System.out.println(e);\n",
    "        }\n",
    "\n",
    "        System.out.println(\"rest of the code...\");\n",
    "    }\n",
    "}"
   ]
  },
  {
   "cell_type": "markdown",
   "id": "ce90ce23",
   "metadata": {},
   "source": [
    "<link rel=\"stylesheet\" href=\"style.css\">\n",
    "<div class=\"card\" dir=\"rtl\">\n",
    "\n",
    "<p>\n",
    "همانطور که مشاهده می‌شود، باقی‌مانده کد پس از بروز استثنا اجرا خواهد شد.\n",
    "</p>\n",
    "\n",
    "<hr class=\"divider\" />\n",
    "\n",
    "<h3>مثالی دیگر</h3>\n",
    "<p>\n",
    "در مثال زیر، آرایه‌ای به طول دو عنصر اعلان شده است. در نتیجه تلاش برای دسترسی عنصر سوم آرایه سبب پرتاب شدن (throw) یک استثنا می‌شود.\n",
    "</p>"
   ]
  },
  {
   "cell_type": "code",
   "execution_count": null,
   "id": "feb85641",
   "metadata": {
    "vscode": {
     "languageId": "plaintext"
    }
   },
   "outputs": [],
   "source": [
    "import java.io.*;\n",
    "\n",
    "public class ExcepTest{\n",
    "    public static void main(String[] args){\n",
    "        try{\n",
    "            int a[] = new int[2];\n",
    "            System.out.println(\"Access element three:\" + a[3]);\n",
    "        }catch(ArrayIndexOutOfBoundsException e){\n",
    "            System.out.println(\"Exception thrown : \" + e);\n",
    "        }\n",
    "        System.out.println(\"Out of the block\");\n",
    "    }\n",
    "}"
   ]
  },
  {
   "cell_type": "markdown",
   "id": "9865f82f",
   "metadata": {},
   "source": [
    "<link rel=\"stylesheet\" href=\"style.css\">\n",
    "<div class=\"card\" dir=\"rtl\">\n",
    "<h3>بلاک catch چندگانه</h3>\n",
    "<p>\n",
    "اگر بخواهیم واکنش‌های مختلفی در هنگام رخداد استثناهای مختلف داشته باشیم، از بلاک catch چندگانه به صورت زیر استفاده می‌کنیم:\n",
    "</p>\n",
    "<p>\n",
    "قاعده: در هر بار اجرا تنها یک استثنا رخ می‌دهد و هر بار تنها یک بلاک catch اجرا می‌شود.\n",
    "</p>\n",
    "<p>\n",
    "قاعده: تمامی بلاک‌های catch باید از خاص‌ترین آنها به عمومی‌ترین آنها مرتب‌سازی شوند. یعنی catch برای ArithmeticException باید پیش از catch برای Exception قرار داده شود.\n",
    "</p>\n",
    "<p>\n",
    "چون ما به فیلد داده‌ای دسترسی داریم که بازنویسی نشده است و در اصل امکان بازنویسی آن وجود ندارد، همیشه فقط مقدار فیلد داده‌ای کلاس والد قابل دسترسی می‌باشد.\n",
    "</p>\n",
    "\n",
    "<hr class=\"divider\" />"
   ]
  },
  {
   "cell_type": "code",
   "execution_count": null,
   "id": "83fb046c",
   "metadata": {
    "vscode": {
     "languageId": "plaintext"
    }
   },
   "outputs": [],
   "source": [
    "public class TestMultipleCatchBlock {\n",
    "    public static void main(String args[]) {\n",
    "        try {\n",
    "            int a[] = new int[5];\n",
    "            a[5] = 30 / 0;\n",
    "        } \n",
    "        catch (ArithmeticException e) {\n",
    "            System.out.println(\"task1 is completed\");\n",
    "        } \n",
    "        catch (ArrayIndexOutOfBoundsException e) {\n",
    "            System.out.println(\"task 2 completed\");\n",
    "        } \n",
    "        catch (Exception e) {\n",
    "            System.out.println(\"common task completed\");\n",
    "        }\n",
    "\n",
    "        System.out.println(\"rest of the code...\");\n",
    "    }\n",
    "}"
   ]
  },
  {
   "cell_type": "code",
   "execution_count": null,
   "id": "b83f80e8",
   "metadata": {
    "vscode": {
     "languageId": "plaintext"
    }
   },
   "outputs": [],
   "source": [
    "public class TestMultipleCatchBlock1 {\n",
    "    public static void main(String args[]) {\n",
    "        try {\n",
    "            int a[] = new int[5];\n",
    "            a[5] = 30 / 0;\n",
    "        } \n",
    "        catch (Exception e) {\n",
    "            System.out.println(\"common task completed\");\n",
    "        }\n",
    "        catch (ArithmeticException e) {\n",
    "            System.out.println(\"task1 is completed\");\n",
    "        } \n",
    "        catch (ArrayIndexOutOfBoundsException e) {\n",
    "            System.out.println(\"task 2 completed\");\n",
    "        } \n",
    "        \n",
    "        System.out.println(\"rest of the code...\");\n",
    "    }\n",
    "}"
   ]
  },
  {
   "cell_type": "markdown",
   "id": "1e6bd56d",
   "metadata": {},
   "source": [
    "<link rel=\"stylesheet\" href=\"style.css\">\n",
    "<div class=\"card\" dir=\"rtl\">\n",
    "<h3>روند اجرایی در catch چندگانه</h3>\n",
    "<p>\n",
    "قاعده نحوی قرار دادن بلاک‌های catch چندگانه در برنامه به صورت زیر است:\n",
    "</p>\n",
    "\n",
    "\n",
    "<p style=\"text-align: left;\"><code>}try</code></p>\n",
    "<p style=\"text-align: left;\"><code>Protected code//</code></p>\n",
    "<p style=\"text-align: left;\"><code>catch(ExceptionType1 e1){</code></p>\n",
    "<p style=\"text-align: left;\"><code>}</code></p>\n",
    "<p style=\"text-align: left;\"><code>Catch block//</code></p>\n",
    "<p style=\"text-align: left;\"><code>catch(ExceptionType2 e2){</code></p>\n",
    "<p style=\"text-align: left;\"><code>}</code></p>\n",
    "<p style=\"text-align: left;\"><code>Catch block//</code></p>\n",
    "<p style=\"text-align: left;\"><code>catch(ExceptionType3 e3){</code></p>\n",
    "<p style=\"text-align: left;\"><code>}</code></p>\n",
    "<p style=\"text-align: left;\"><code>Catch block//</code></p>\n",
    "<p style=\"text-align: left;\"><code>{</code></p>\n",
    "\n",
    "<p>\n",
    "بعد از یک بلاک try می‌تواند هر تعداد بلاک catch قرار بگیرد. اگر استثنایی در بلاک try رخ دهد، این استثنا به اولین بلاک catch فرستاده می‌شود. اگر نوع (کلاس) شی استثنای ارسال شده (پرتاب شده) با ExceptionType1 تطبیق داشت، در همان بلاک دریافت و هندل خواهد شد.\n",
    "</p>\n",
    "<p>\n",
    "در غیر این‌ صورت، استثنا به دومین دستورالعمل فرستاده خواهد شد. این فرآیند تا زمانی ادامه پیدا می‌کند که یا استثنا دریافت شود یا اینکه در هیچ بلاک catch تطبیق پیدا نکند.\n",
    "</p>\n",
    "<p>\n",
    "در حالت دوم، اجرای متد جاری خاتمه پیدا می‌کند و استثنا به متد قبلی درون پشته فراخوانی‌ها منتقل خواهد شد.\n",
    "</p>\n",
    "\n",
    "<hr class=\"divider\" />\n",
    "<h3>بلاک finally</h3>\n",
    "<p>\n",
    "بلاک finally بلاکی است که همیشه اجرا می‌شود. هدف از نوشتن این بلاک انجام برخی وظایف مهم نظیر بستن یک ارتباط شبکه‌ای، بستن یک کلاس خواندن یا نوشتن در فایل، بستن یک جریان (stream) و غیره، می‌باشد.\n",
    "</p>\n",
    "<p>\n",
    "در واقع همه کارهایی را که می‌خواهیم پیش از توقف برنامه، حتما انجام شوند، در بلاک finally می‌نویسیم.\n",
    "</p>\n",
    "\n",
    "<div class=\"images\">\n",
    "<img src=\"img/tryCatch.png\" alt=\"Try/Catch\" />\n",
    "</div>\n",
    "<p>\n",
    "قاعده: برای هر بلاک try ممکن است یک یا چند بلاک catch وجود داشته باشد، اما حداکثر یک بلاک finally وجود دارد.\n",
    "</p>\n",
    "<p>\n",
    "نکته: بلاک finally در مواقع خاصی مانند فراخوانی ()System.exit یا رخداد خطاهای مهلک (fatal error) که منجر به توقف پروسه اجراکننده برنامه می‌شود، اجرا نخواهد شد.\n",
    "</p>\n",
    "<p>\n",
    "نکته: finally باید پس از بلاک try یا catch بیاید.\n",
    "</p>\n",
    "<p>\n",
    "نکته: پیش از پایان برنامه، JVM یک بلاک finally را در صورت وجود، اجرا می‌کند.\n",
    "</p>\n",
    "<p>\n",
    "سوالی که ممکن است پیش بیاید: <strong>چرا از این بلاک استفاده می‌کنیم؟</strong>\n",
    "</p>\n",
    "<p>\n",
    "پاسخ این سوال این است که با این کار، یک کد پاک یا به اصطلاح cleanup مانند بستن یک فایل، بستن یک اتصال شبکه‌ای و غیره را در برنامه قرار می‌دهیم.\n",
    "</p>\n",
    "\n",
    "<hr class=\"divider\" />\n"
   ]
  },
  {
   "cell_type": "markdown",
   "id": "5c756e8a",
   "metadata": {},
   "source": [
    "<link rel=\"stylesheet\" href=\"style.css\">\n",
    "<div class=\"card\" dir=\"rtl\">\n",
    "\n",
    "<h3>بلاک finally - حالت اول</h3>\n",
    "<p>\n",
    "حالت اول : موقعی که استثنایی رخ ندهد.\n",
    "</p>"
   ]
  },
  {
   "cell_type": "code",
   "execution_count": null,
   "id": "cc203ef5",
   "metadata": {
    "vscode": {
     "languageId": "plaintext"
    }
   },
   "outputs": [],
   "source": [
    "class TestFinallyBlock {\n",
    "    public static void main(String args[]) {\n",
    "        try {\n",
    "            int data = 25 / 5;\n",
    "            System.out.println(data);\n",
    "        } \n",
    "        catch (NullPointerException e) {\n",
    "            System.out.println(e);\n",
    "        } \n",
    "        finally {\n",
    "            System.out.println(\"finally block is always executed\");\n",
    "        }\n",
    "\n",
    "        System.out.println(\"rest of the code...\");\n",
    "    }\n",
    "}"
   ]
  },
  {
   "cell_type": "markdown",
   "id": "8841c773",
   "metadata": {},
   "source": [
    "<link rel=\"stylesheet\" href=\"style.css\">\n",
    "<div class=\"card\" dir=\"rtl\">\n",
    "\n",
    "<h3>بلاک finally - حالت دوم</h3>\n",
    "<p>\n",
    "حالت دوم : موقعی که استثنا رخ دهد اما مدیریت نشود.\n",
    "</p>"
   ]
  },
  {
   "cell_type": "code",
   "execution_count": null,
   "id": "0da440aa",
   "metadata": {
    "vscode": {
     "languageId": "plaintext"
    }
   },
   "outputs": [],
   "source": [
    "class TestFinallyBlock1 {\n",
    "    public static void main(String args[]) {\n",
    "        try {\n",
    "            int data = 25 / 0;\n",
    "            System.out.println(data);\n",
    "        } \n",
    "        catch (NullPointerException e) {\n",
    "            System.out.println(e);\n",
    "        } \n",
    "        finally {\n",
    "            System.out.println(\"finally block is always executed\");\n",
    "        }\n",
    "\n",
    "        System.out.println(\"rest of the code...\");\n",
    "    }\n",
    "}"
   ]
  },
  {
   "cell_type": "markdown",
   "id": "7b3d1f24",
   "metadata": {},
   "source": [
    "<link rel=\"stylesheet\" href=\"style.css\">\n",
    "<div class=\"card\" dir=\"rtl\">\n",
    "\n",
    "<h3>بلاک finally - حالت سوم</h3>\n",
    "<p>\n",
    "حالت سوم : موقعی که استثنا رخ دهد و مدیریت شود.\n",
    "</p>"
   ]
  },
  {
   "cell_type": "code",
   "execution_count": null,
   "id": "a1e31533",
   "metadata": {
    "vscode": {
     "languageId": "plaintext"
    }
   },
   "outputs": [],
   "source": [
    "public class TestFinallyBlock2 {\n",
    "    public static void main(String args[]) {\n",
    "        try {\n",
    "            int data = 25 / 0;\n",
    "            System.out.println(data);\n",
    "        } \n",
    "        catch (ArithmeticException e) {\n",
    "            System.out.println(e);\n",
    "        } \n",
    "        finally {\n",
    "            System.out.println(\"finally block is always executed\");\n",
    "        }\n",
    "\n",
    "        System.out.println(\"rest of the code...\");\n",
    "    }\n",
    "}"
   ]
  },
  {
   "cell_type": "markdown",
   "id": "b98b6080",
   "metadata": {},
   "source": [
    "<link rel=\"stylesheet\" href=\"style.css\">\n",
    "<div class=\"card\" dir=\"rtl\">\n",
    "<h3>چند نکته</h3>\n",
    "\n",
    "<p>\n",
    "یک بلاک catch بدون وجود بلاک try معنا ندارد.\n",
    "</p>\n",
    "<p>\n",
    "در صورت وجود بلاک‌های try/catch در برنامه اصراری بر وجود بلاک finally نمی‌باشد.\n",
    "</p>\n",
    "<p>\n",
    "بلاک try باید با بلاک finally یا catch یا هر دو همراه باشد.\n",
    "</p>\n",
    "<p>\n",
    "هیچ کدی نباید مابین بلاک‌های try, catch و finally قرار بگیرد.\n",
    "</p>\n",
    "\n",
    "<hr class=\"divider\" />\n",
    "<h3>کلمه throw</h3>\n",
    "<p>\n",
    "کلمه throw به این هدف استفاده می‌شود که چه در صورت وجود استثنای چک شده یا چک نشده، یک استثنا ایجاد و پرتاب شود.\n",
    "</p>\n",
    "<p>\n",
    "اغلب در مورد استثناهای طراحی شده توسط برنامه‌نویس، کاربرد دارد.\n",
    "</p>\n",
    "<p>\n",
    "در مثال زیر، برنامه‌نویس متدی نوشته که یک آرگومان صحیح را دریافت می‌کند. اگر مقدار آن کمتر از 18 باشد، استثنای ArithmeticException پرتاب خواهد شد و در غیر این‌صورت، پیغامی مبنی بر امکان حق رای چاپ خواهد شد.\n",
    "</p>\n"
   ]
  },
  {
   "cell_type": "code",
   "execution_count": null,
   "id": "410081b2",
   "metadata": {
    "vscode": {
     "languageId": "plaintext"
    }
   },
   "outputs": [],
   "source": [
    "public class TestThrow1{\n",
    "    static void validate(int age){\n",
    "        if(age < 18){\n",
    "            throw new ArithmeticException(\"not valid\");\n",
    "        }\n",
    "        else{\n",
    "            System.out.println(\"welcome to vote\");\n",
    "        }\n",
    "    }\n",
    "\n",
    "    public static void main(String[] args){\n",
    "        validate(13);\n",
    "        System.out.println(\"rest of the code...\");\n",
    "    }\n",
    "}"
   ]
  },
  {
   "cell_type": "markdown",
   "id": "c7241a61",
   "metadata": {},
   "source": [
    "<link rel=\"stylesheet\" href=\"style.css\">\n",
    "<div class=\"card\" dir=\"rtl\">\n",
    "<h3>انتشار استثنا</h3>\n",
    "<p>\n",
    "استثنا در ابتدا از بالای پشته برنامه، آخرین متد فراخوانی شده، پرتاب می‌شود و اگر دریافت یا همان catch نشود، در پشته به سراغ متد قبلی می‌رود و اگر در آنجا هم دریافت نشود، مجددا به سراغ متد قبل‌تر خواهد رفت و به همین ترتیب!\n",
    "</p>\n",
    "<p>\n",
    "تا زمانی که سرانجام دریافت شود یا به پایین و انتهای پشته برسد. به این روند، انتشار استثنا گفته می‌شود.\n",
    "</p>\n",
    "<p>\n",
    "قاعده: به طور پیش‌فرض، استثناهای چک نشده در زنجیره فراخوانی انتشار پیدا می‌کنند.\n",
    "</p>\n",
    "\n",
    "<hr class=\"divider\" />\n",
    "<h3>مثالی از انتشار استثنا</h3>\n"
   ]
  },
  {
   "cell_type": "code",
   "execution_count": null,
   "id": "5dc429ec",
   "metadata": {
    "vscode": {
     "languageId": "plaintext"
    }
   },
   "outputs": [],
   "source": [
    "class TestExceptionPropagation1{\n",
    "    void m(){\n",
    "        int data = 50/0;\n",
    "    }\n",
    "\n",
    "    void n(){\n",
    "        m();\n",
    "    }\n",
    "\n",
    "    void p(){\n",
    "        try{\n",
    "            n();\n",
    "        } catch(Exception e) {\n",
    "            System.out.println(\"exception handled\");\n",
    "        }\n",
    "    }\n",
    "\n",
    "    public static void main(String[] args){\n",
    "        TestExceptionPropagation1 obj = new TestExceptionPropagation1();\n",
    "        obj.p();\n",
    "        System.out.println(\"normal flow...\");\n",
    "    }\n",
    "}"
   ]
  },
  {
   "cell_type": "markdown",
   "id": "786aac41",
   "metadata": {},
   "source": [
    "<link rel=\"stylesheet\" href=\"style.css\">\n",
    "<div class=\"card\" dir=\"rtl\">\n",
    "<p>\n",
    "در مثال نشان داده شده، استثنا در متد ()m رخ داده است و در آنجا مدیریت نشده است، در نتیجه در متد فراخوانده (متد قبلی) که ()n است، انتشار پیدا می‌کند که آنجا هم مدیریت نشده است. این انتشار به متد ()p می‌رسد که در آنجا مدیریت صورت گرفته است.\n",
    "</p>\n",
    "\n",
    "<p>\n",
    "استثنا می‌تواند در هر فراخوانی متدی درون پشته فراخوانی، مدیریت شود. مثلا در متد ()main یا ()p یا ()n یا ()m\n",
    "</p>\n",
    "\n",
    "<div class=\"images\">\n",
    "<img src=\"img/stack.png\" alt=\"Stack\" />\n",
    "</div>\n",
    "<hr class=\"divider\" />\n",
    "\n",
    "<p>\n",
    "نکته: به طور پیش‌فرض، استثناهای چک شده، درون پشته فراخوانی‌ها انتشار نمی‌یابند.\n",
    "</p>\n",
    "<p>\n",
    "در مثال زیر به عمد یک استثنای چک شده را به صورت تصنعی ایجاد کرده‌ایم ( با استفاده از کلمه throw) و این مثال نشان می‌دهد استثناهای چک شده، انتشار پیدا نمی‌کنند.\n",
    "</p>\n"
   ]
  },
  {
   "cell_type": "code",
   "execution_count": null,
   "id": "25a6aebf",
   "metadata": {
    "vscode": {
     "languageId": "plaintext"
    }
   },
   "outputs": [],
   "source": [
    "class TestExceptionPropagation2{\n",
    "    void m(){\n",
    "        throw new java.io.IOException(\"device error\"); //checked exception\n",
    "    }\n",
    "\n",
    "    void n(){\n",
    "        m();\n",
    "    }\n",
    "\n",
    "    void p(){\n",
    "        try{\n",
    "            n();\n",
    "        } catch(Exception e) {\n",
    "            System.out.println(\"exception handled\");\n",
    "        }\n",
    "    }\n",
    "\n",
    "    public static void main(String[] args){\n",
    "        TestExceptionPropagation2 obj = new TestExceptionPropagation2();\n",
    "        obj.p();\n",
    "        System.out.println(\"normal flow\");\n",
    "    }\n",
    "}"
   ]
  },
  {
   "cell_type": "markdown",
   "id": "797646f8",
   "metadata": {},
   "source": [
    "<link rel=\"stylesheet\" href=\"style.css\">\n",
    "<div class=\"card\" dir=\"rtl\">\n",
    "<h3>کلمه throws</h3>\n",
    "\n",
    "<p>\n",
    "کلمه throws برای اعلان یک استثنا استفاده می‌شود. این کلمه اطلاعاتی به برنامه‌نویس درباره احتمال بروز یک استثنای چک شده می‌دهد و در نتیجه برنامه‌نویس را تشویق می‌کند برای مدیریت استثنا چاره‌ای بیندیشد تا جریان عادی برنامه حفظ شود.\n",
    "</p>\n",
    "<p>\n",
    "با استفاده از اعلان استثنا (با کلمه throws) به کامپایلر می‌گوییم بررسی استثنا از زمان کامپایل به زمان اجرا منتقل شود.\n",
    "</p>\n",
    "<p>\n",
    "سوالی که پیش می‌آید: کدام استثناها باید اعلان شوند؟\n",
    "</p>\n",
    "<p>\n",
    "پاسخ استثناهای چک شده است، زیرا همانطور که قبلا دیدیم: استثنای چک نشده تحت کنترل شما است و می‌توانید کد را تصحیح کنید و همچنین درباره error مشاهده کردید که به صورت کلی تحت کنترل شما نیست. برای مثال: StackOverflowError , VirtualMachineError\n",
    "</p>\n",
    "<p><strong>قاعده نحوی throws: </strong></p>\n",
    "\n",
    "<p style=\"text-align: left;\"><code>}void method_name() throws exception_class_name</code></p>\n",
    "<p style=\"text-align: left;\"><code>...</code></p>\n",
    "<p style=\"text-align: left;\"><code>{</code></p>\n",
    "\n",
    "<p>\n",
    "مزیت این کلیدواژه این است که با استفاده از آن، استثناهای چک شده نیز در زنجیره  فراخوانی‌ها در پشته برنامه، انتشار می‌یابد.\n",
    "</p>"
   ]
  },
  {
   "cell_type": "code",
   "execution_count": null,
   "id": "cf08dc6c",
   "metadata": {
    "vscode": {
     "languageId": "plaintext"
    }
   },
   "outputs": [],
   "source": [
    "import java.io.IOException;\n",
    "\n",
    "class Testthrows1{\n",
    "    void m()throws IOException{\n",
    "        throw new IOException(\"device error\"); //checked exception\n",
    "    }\n",
    "\n",
    "    void n(){\n",
    "        m();\n",
    "    }\n",
    "    void p(){\n",
    "        try{\n",
    "            n();\n",
    "        } catch(Exception e){\n",
    "            System.out.println(\"exception handled\");\n",
    "        }\n",
    "    }\n",
    "\n",
    "    public static void main(String[] args){\n",
    "        Testthrows1 obj = new Testthrows1();\n",
    "        obj.p();\n",
    "        System.out.println(\"normal flow...\")\n",
    "    }\n",
    "}"
   ]
  },
  {
   "cell_type": "markdown",
   "id": "e82b33fd",
   "metadata": {},
   "source": [
    "<link rel=\"stylesheet\" href=\"style.css\">\n",
    "<div class=\"card\" dir=\"rtl\">\n",
    "<h3>کلمه throws</h3>\n",
    "<p>\n",
    "نکته: اگر متدی را فراخوانی می‌کنید که ممکن است استثنایی چک شده در آن رخ دهد، دو راه دارید:\n",
    "</p>\n",
    "<p>\n",
    "حالت اول: استثنا را با استفاده از try/catch مدیریت کنید.\n",
    "</p>\n",
    "<p>\n",
    "حالت دوم: استثنا را مشخصا با کلمه throws اعلان کنید. به این ترتیب، استثنای احتمالی در زمان کامپایل بررسی نشده و بررسی آن به زمان اجرا موکول می‌شود.\n",
    "</p>\n",
    "\n",
    "<h3>حالت اول: استثنا مدیریت شود</h3>\n",
    "<p>\n",
    "اگر استثنا مدیریت شود، کد چه در صورت وجود استثنا چه در صورت عدم وجود استثنا به صورت عادی اجرا خواهد شد.\n",
    "</p>"
   ]
  },
  {
   "cell_type": "code",
   "execution_count": null,
   "id": "ef8f4ff1",
   "metadata": {
    "vscode": {
     "languageId": "plaintext"
    }
   },
   "outputs": [],
   "source": [
    "import java.io.*;\n",
    "\n",
    "class M{\n",
    "    void method()throws IOException{\n",
    "        throw new IOException(\"device error\");\n",
    "    }\n",
    "}\n",
    "\n",
    "public class Testthrows2{\n",
    "    public static void main(String[] args){\n",
    "        try{\n",
    "            Testthrows2 t = new Testthrows2();\n",
    "            t.method();\n",
    "        } catch(Exception e) {\n",
    "            System.out.println(\"exception handled\");\n",
    "        }\n",
    "\n",
    "        System.out.println(\"normal flow...\");\n",
    "    }\n",
    "}"
   ]
  },
  {
   "cell_type": "markdown",
   "id": "2ed8946b",
   "metadata": {},
   "source": [
    "<link rel=\"stylesheet\" href=\"style.css\">\n",
    "<div class=\"card\" dir=\"rtl\">\n",
    "<h3>حالت دوم: استثنا اعلان شود</h3>\n",
    "<p>\n",
    "در صورت اعلان استثنا، اگر استثنا رخ ندهد برنامه با موفقیت اجرا خواهد شد.\n",
    "</p>\n",
    "<p>\n",
    "در صورت اعلان استثنا، اگر استثنا رخ دهد، استثنای مربوطه در زمان اجرا ایجاد می‌شود، زیرا throws کاری برای مدیریت استثنا انجام نمی‌دهد.\n",
    "</p>\n",
    "<p>\n",
    "مثال زیر حالتی را نشان می‌دهد که استثنا رخ نداده باشد:\n",
    "</p>"
   ]
  },
  {
   "cell_type": "code",
   "execution_count": null,
   "id": "c230a6f9",
   "metadata": {
    "vscode": {
     "languageId": "plaintext"
    }
   },
   "outputs": [],
   "source": [
    "import java.io.*;\n",
    "\n",
    "class M{\n",
    "    void method()throws IOException{\n",
    "        System.out.println(\"device operationn performed\");\n",
    "    }\n",
    "}\n",
    "\n",
    "public class Testthrows3{\n",
    "    public static void main(String[] args)throws IOException{ //declare exception\n",
    "        \n",
    "        Testthrows3 t = new Testthrows3();\n",
    "        t.method();\n",
    "\n",
    "        System.out.println(\"normal flow...\");\n",
    "    }\n",
    "}"
   ]
  },
  {
   "cell_type": "markdown",
   "id": "dabb4f03",
   "metadata": {},
   "source": [
    "<link rel=\"stylesheet\" href=\"style.css\">\n",
    "<div class=\"card\" dir=\"rtl\">\n",
    "<p>برنامه‌ای که در آن استثنا رخ داده است:</p>"
   ]
  },
  {
   "cell_type": "code",
   "execution_count": null,
   "id": "14e6a4b4",
   "metadata": {
    "vscode": {
     "languageId": "plaintext"
    }
   },
   "outputs": [],
   "source": [
    "import java.io.*;\n",
    "\n",
    "class M{\n",
    "    void method()throws IOException{\n",
    "        throw new IOException(\"device error\");\n",
    "    }\n",
    "}\n",
    "\n",
    "public class Testthrows4{\n",
    "    public static void main(String[] args)throws IOException{ //declare exception\n",
    "        \n",
    "        Testthrows4 t = new Testthrows4();\n",
    "        t.method();\n",
    "\n",
    "        System.out.println(\"normal flow...\");\n",
    "    }\n",
    "}"
   ]
  },
  {
   "cell_type": "markdown",
   "id": "c87c0a30",
   "metadata": {},
   "source": [
    "<link rel=\"stylesheet\" href=\"style.css\">\n",
    "<div class=\"card\" dir=\"rtl\">\n",
    "<h3>تفاوت میان throw و throws</h3>\n",
    "\n",
    "<img src=\"img/throwandthrows.png\" alt=\"throw VS throws\" />\n",
    "\n",
    "<hr class=\"divider\" />"
   ]
  },
  {
   "cell_type": "markdown",
   "id": "5243283b",
   "metadata": {},
   "source": [
    "<link rel=\"stylesheet\" href=\"style.css\">\n",
    "<div class=\"card\" dir=\"rtl\">\n",
    "<h3>مدیریت استثنا در هنگام بازنویسی متد</h3>\n",
    "\n",
    "<p>\n",
    "در هنگام بازنویسی متدها با استفاده از مدیریت استثنائات، از قواعد مختلفی استفاده می‌شود.\n",
    "</p>\n",
    "<p>\n",
    "این قواعد به صورت زیر می‌باشد:\n",
    "</p>\n",
    "<p>\n",
    "اگر متد کلاس والد، استثنایی را اعلان نکرده باشد، متد بازنویسی شده کلاس فرزند نمی‌تواند یک استثنای چک شده را اعلان کند، اما می‌تواند استثنای چک نشده را اعلان نماید.\n",
    "</p>\n",
    "<p>\n",
    "اگر متد کلاس والد، استثنایی را اعلان کرده باشد، متد بازنویسی شده کلاس فرزند می‌تواند همان استثنای والد را اعلان کند یا استثنایی که در سلسله مراتب استثناها زیرکلاس استثنای کلاس والد است را اعلان کند یا هیچ استثنایی را اعلان نکند. اما نمی‌تواند استثنایی را اعلان کند که در درخت استثنائات پدر استثنای اعلان شده در کلاس والد بوده است.\n",
    "</p>\n",
    "\n",
    "<div class=\"images\">\n",
    "<img src=\"img/overriding.png\" alt=\"override\" />\n",
    "</div>\n",
    "<hr class=\"divider\" />\n",
    "\n",
    "<p>\n",
    "اگر متد کلاس والد، استثنایی را اعلان نکرده باشد:\n",
    "</p>\n",
    "<p>\n",
    "متد بازنویسی شده کلاس فرزند، نمی‌تواند یک استثنای چک شده را اعلان کند. اما می‌تواند یک استثنای چک نشده را اعلان کند.\n",
    "</p>\n"
   ]
  },
  {
   "cell_type": "code",
   "execution_count": null,
   "id": "8bdf0fb5",
   "metadata": {
    "vscode": {
     "languageId": "plaintext"
    }
   },
   "outputs": [],
   "source": [
    "import java.io.*;\n",
    "\n",
    "class Parent{\n",
    "    void msg(){\n",
    "        System.out.println(\"parent\");\n",
    "    }\n",
    "}\n",
    "\n",
    "class TestExceptionChild extends Parent{\n",
    "    void msg()throws IOException{\n",
    "        System.out.println(\"TestExceptionChild\");\n",
    "    }\n",
    "\n",
    "    public static void main(String[] args){\n",
    "        Parent p = new TestExceptionChild();\n",
    "        p.msg();\n",
    "    }\n",
    "}"
   ]
  },
  {
   "cell_type": "code",
   "execution_count": null,
   "id": "7a1fa7a3",
   "metadata": {
    "vscode": {
     "languageId": "plaintext"
    }
   },
   "outputs": [],
   "source": [
    "import java.io.*;\n",
    "\n",
    "class Parent{\n",
    "    void msg(){\n",
    "        System.out.println(\"parent\");\n",
    "    }\n",
    "}\n",
    "\n",
    "class TestExceptionChild1 extends Parent{\n",
    "    void msg()throws ArithmeticException{\n",
    "        System.out.println(\"child\");\n",
    "    }\n",
    "\n",
    "    public static void main(String[] args){\n",
    "        Parent p = new TestExceptionChild1();\n",
    "        p.msg();\n",
    "    }\n",
    "}"
   ]
  },
  {
   "cell_type": "markdown",
   "id": "f9ccf1fb",
   "metadata": {},
   "source": [
    "<link rel=\"stylesheet\" href=\"style.css\">\n",
    "<div class=\"card\" dir=\"rtl\">\n",
    "\n",
    "<hr class=\"divider\" />\n",
    "<p>\n",
    "اگر متد کلاس والد، یک استثنا را اعلان کند:\n",
    "</p>\n",
    "<p>\n",
    "اگر متد کلاس والد، استثنایی را اعلان کرده باشد، متد بازنویسی شده کلاس فرزند می‌تواند همان استثنای کلاس والد یا استثنایی را اعلان کند که در درخت استثنائات، فرزند استثنای اعلان شده در کلاس والد باشد یا هیچ استثنایی را اعلان نکند. اما نمی‌تواند استثنایی را اعلان کند که در درخت استثنائات، پدر استثنای اعلان شده در کلاس والدش باشد.\n",
    "</p>\n",
    "<p>\n",
    "در مثال زیر متد بازنویسی شده در کلاس فرزند، استثنایی را اعلان می‌کند که در درخت استثنائات، پدر استثنای اعلان شده در کلاس والدش است.\n",
    "</p>"
   ]
  },
  {
   "cell_type": "code",
   "execution_count": null,
   "id": "d008c128",
   "metadata": {
    "vscode": {
     "languageId": "plaintext"
    }
   },
   "outputs": [],
   "source": [
    "import java.io.*;\n",
    "\n",
    "class Parent{\n",
    "    void msg()throws ArithmeticException{\n",
    "        System.out.println(\"parent\");\n",
    "    }\n",
    "}\n",
    "\n",
    "class TestExceptionChild2 extends Parent{\n",
    "    void msg()throws Exception{\n",
    "        System.out.println(\"child\");\n",
    "    }\n",
    "\n",
    "    public static void main(String[] args){\n",
    "        Parent p = new TestExceptionChild2();\n",
    "        try{\n",
    "            p.msg();\n",
    "        } catch(Exception e){}\n",
    "    }\n",
    "}"
   ]
  },
  {
   "cell_type": "markdown",
   "id": "3bd5625b",
   "metadata": {},
   "source": [
    "<link rel=\"stylesheet\" href=\"style.css\">\n",
    "<div class=\"card\" dir=\"rtl\">\n",
    "<hr class=\"divider\" />\n",
    "<p>متد بازنویسی شده کلاس فرزند، همان استثنای اعلان شده در پدر را اعلان می‌کند.</p>"
   ]
  },
  {
   "cell_type": "code",
   "execution_count": null,
   "id": "d4a4ef30",
   "metadata": {
    "vscode": {
     "languageId": "plaintext"
    }
   },
   "outputs": [],
   "source": [
    "import java.io.*;\n",
    "\n",
    "class Parent{\n",
    "    void msg()throws Exception{\n",
    "        System.out.println(\"parent\");\n",
    "    }\n",
    "}\n",
    "\n",
    "class TestExceptionChild3 extends Parent{\n",
    "    void msg()throws Exception{\n",
    "        System.out.println(\"child\");\n",
    "    }\n",
    "\n",
    "    public static void main(String[] args){\n",
    "        Parent p = new TestExceptionChild3();\n",
    "        try{\n",
    "            p.msg();\n",
    "        } catch(Exception e){}\n",
    "    }\n",
    "}"
   ]
  },
  {
   "cell_type": "code",
   "execution_count": null,
   "id": "9ae1b227",
   "metadata": {
    "vscode": {
     "languageId": "plaintext"
    }
   },
   "outputs": [],
   "source": [
    "import java.io.*;\n",
    "\n",
    "class Parent{\n",
    "    void msg()throws ArithmeticException{\n",
    "        System.out.println(\"parent\");\n",
    "    }\n",
    "}\n",
    "\n",
    "class TestExceptionChild4 extends Parent{\n",
    "    void msg()throws ArithmeticException{\n",
    "        System.out.println(\"child\");\n",
    "    }\n",
    "\n",
    "    public static void main(String[] args){\n",
    "        Parent p = new TestExceptionChild4();\n",
    "        try{\n",
    "            p.msg();\n",
    "        } catch(Exception e){}\n",
    "    }\n",
    "}"
   ]
  },
  {
   "cell_type": "markdown",
   "id": "a6e39d85",
   "metadata": {},
   "source": [
    "<link rel=\"stylesheet\" href=\"style.css\">\n",
    "<div class=\"card\" dir=\"rtl\">\n",
    "<h3>وقتی متد بازنویسی شده در کلاس فرزند، استثنایی را اعلان نکند</h3>"
   ]
  },
  {
   "cell_type": "code",
   "execution_count": null,
   "id": "884056e0",
   "metadata": {
    "vscode": {
     "languageId": "plaintext"
    }
   },
   "outputs": [],
   "source": [
    "import java.io.*;\n",
    "\n",
    "class Parent{\n",
    "    void msg()throws Exception{\n",
    "        System.out.println(\"parent\");\n",
    "    }\n",
    "}\n",
    "\n",
    "class TestExceptionChild5 extends Parent{\n",
    "    void msg(){\n",
    "        System.out.println(\"child\");\n",
    "    }\n",
    "\n",
    "    public static void main(String[] args){\n",
    "        Parent p = new TestExceptionChild5();\n",
    "        try{\n",
    "            p.msg();\n",
    "        } catch(Exception e){}\n",
    "    }\n",
    "}"
   ]
  },
  {
   "cell_type": "markdown",
   "id": "fad94611",
   "metadata": {},
   "source": [
    "\n",
    "<link rel=\"stylesheet\" href=\"style.css\">\n",
    "<div class=\"card\" dir=\"rtl\">\n",
    "<hr class=\"divider\" />\n",
    "<h3>استثناهای طراحی شده توسط برنامه‌نویس</h3>\n",
    "\n",
    "<div class=\"images\">\n",
    "<img src=\"img/throwbleClass.png\" alt=\"Throwable\" />\n",
    "</div>\n",
    "<p>\n",
    "استثناهای تعریف شده باید از Throwable ارث‌بری کنند.\n",
    "</p>\n",
    "<p>\n",
    "اگر می‌خواهید استثنای چک شده‌ای بنویسید که به طور خودکار با یک ساختار مدیریت استثنا کنترل می‌شود یا در ابتدای متد اعلان می‌شود، باید از کلاس exception ارث‌بری کنید.\n",
    "</p>\n",
    "<p>\n",
    "اگر می‌خواهید استثنای زمان اجرا (چک نشده) بنویسید باید از کلاس RuntimeException ارث‌بری کنید.\n",
    "</p>\n",
    "<p>\n",
    "کلاس Exception خود را می‌توانید به صورت زیر تعریف کنید:\n",
    "</p>\n",
    "<p style=\"text-align: left;\"><code>}class MyException extends Exception</code></p>\n",
    "<p style=\"text-align: left;\"><code>{</code></p>\n",
    "<hr class=\"divider\" />\n",
    "<h3>مثالی از استثنای تعریف شده توسط برنامه‌نویس</h3>\n",
    "<p>\n",
    "هرگاه برنامه‌نویس استثنایی را در ارتباط با برنامه خود طراحی و تعریف کند:\n",
    "</p>"
   ]
  },
  {
   "cell_type": "code",
   "execution_count": null,
   "id": "d192a125",
   "metadata": {
    "vscode": {
     "languageId": "plaintext"
    }
   },
   "outputs": [],
   "source": [
    "class InvalidAgeException extends Exception{\n",
    "    InvalidAgeException(String s){\n",
    "        super(s);\n",
    "    }\n",
    "}\n",
    "\n",
    "class TestCustomException1{\n",
    "    static void validate(int age)throws InvalidAgeException{\n",
    "        if(age < 18) {\n",
    "            throw new InvalidAgeException(\"not valid\");\n",
    "        }\n",
    "        else {\n",
    "            System.out.println(\"welcome to vote\");\n",
    "        }\n",
    "    }\n",
    "\n",
    "    public static void main(String[] args){\n",
    "        try{\n",
    "            validate(13);\n",
    "        } catch(Exception m){\n",
    "            System.out.println(\"Exception occured: \" + m);\n",
    "        }\n",
    "\n",
    "        System.out.println(\"rest of the code...\")\n",
    "    }\n",
    "}"
   ]
  },
  {
   "cell_type": "markdown",
   "id": "1610cf36",
   "metadata": {},
   "source": [
    "<link rel=\"stylesheet\" href=\"style.css\">\n",
    "<div class=\"card\" dir=\"rtl\">\n",
    "<h3>مثالی دیگر از استثنای تعریف شده توسط برنامه‌نویس</h3>\n",
    "<p>\n",
    "کلاس‌هایی که از Exception ارث‌بری کرده باشند، به طور پیش‌فرض چک شده به حساب می‌آیند.\n",
    "</p>\n",
    "<p>\n",
    "برای مثال کلاس InsufficientFundsException زیر یک استثنای تعریف شده توسط برنامه‌نویس می‌باشد.\n",
    "</p>\n",
    "<p>\n",
    "یک کلاس Exception نظیر هر کلاس دیگری در جاوا می‌باشد که حاوی فیلدهای داده‌ای و متدهای موردنیاز است.\n",
    "</p>\n",
    "<p>\n",
    "کلاس CheckingAccount دارای متدی به نام ()withdraw است که شی‌ای از کلاس استثنای InsufficientFundsException  را پرتاب می‌کند.\n",
    "</p>"
   ]
  },
  {
   "cell_type": "code",
   "execution_count": null,
   "id": "367a12a1",
   "metadata": {
    "vscode": {
     "languageId": "plaintext"
    }
   },
   "outputs": [],
   "source": [
    "//File Name InsufficientFundsException.java\n",
    "\n",
    "import java.io.*;\n",
    "\n",
    "public class InsufficientFundsException extends Exception{\n",
    "    private double amount;\n",
    "\n",
    "    public InsufficientFundsException(double amount){\n",
    "        this.amount = amount;\n",
    "    }\n",
    "\n",
    "    public double getAmount(){\n",
    "        return amount;\n",
    "    }\n",
    "}"
   ]
  },
  {
   "cell_type": "code",
   "execution_count": null,
   "id": "62d88fc3",
   "metadata": {
    "vscode": {
     "languageId": "plaintext"
    }
   },
   "outputs": [],
   "source": [
    "//File Name CheckingAccount.java\n",
    "\n",
    "import java.io.*;\n",
    "\n",
    "public class CheckingAccount{\n",
    "    private double balance;\n",
    "    private int number;\n",
    "\n",
    "    public CheckingAccount(int number){\n",
    "        this.number = number;\n",
    "    }\n",
    "\n",
    "    public void deposit(double amount){\n",
    "        balance += amount;\n",
    "    }\n",
    "\n",
    "    public void withdraw(double amount) throws InsufficientFundsException{\n",
    "        if(amount <= balance){\n",
    "            balance -= amount;\n",
    "        }\n",
    "        else{\n",
    "            double needs = amount - balance;\n",
    "            throw new InsufficientFundsException(needs);\n",
    "        }\n",
    "    }\n",
    "\n",
    "    public double getBalance(){\n",
    "        return balance;\n",
    "    }\n",
    "\n",
    "    public int getNumber(){\n",
    "        return number;\n",
    "    }\n",
    "}"
   ]
  },
  {
   "cell_type": "code",
   "execution_count": null,
   "id": "8faa38eb",
   "metadata": {
    "vscode": {
     "languageId": "plaintext"
    }
   },
   "outputs": [],
   "source": [
    "//File Name BankDemo\n",
    "\n",
    "import java.io.*;\n",
    "\n",
    "public class BankDemo{\n",
    "\n",
    "    public static void main(String[] args){\n",
    "        \n",
    "        CheckingAccount c = new CheckingAccount(101); //account number : 101\n",
    "        System.out.println(\"Depositing $500...\");\n",
    "            c.deposit(500.00);\n",
    "        \n",
    "        try{\n",
    "            System.out.println(\"\\nWithdrawing $100...\");\n",
    "            c.withdraw(100.00);\n",
    "            System.out.println(\"\\nWithdrawing $600...\");\n",
    "            c.withdraw(600.00);\n",
    "        } catch(InsufficientFundsException e) {\n",
    "            System.out.println(\"Sorry, but you are short $\" + e.getAmount());\n",
    "            e.printStackTrace();\n",
    "        }\n",
    "    }\n",
    "}"
   ]
  },
  {
   "cell_type": "markdown",
   "id": "0f9b3972",
   "metadata": {},
   "source": [
    "<link rel=\"stylesheet\" href=\"style.css\">\n",
    "<div class=\"card\" dir=\"rtl\">\n",
    "<h3>لیستی از استثناهای چک نشده</h3>\n",
    "<img src=\"img/checknashode.png\" alt=\"check nashode\" />\n",
    "<hr class=\"divider\" />\n",
    "<h3>لیستی از استثناهای چک شده</h3>\n",
    "<img src=\"img/checkshode.png\" alt=\"check shode\" />\n",
    "<hr class=\"divider\" />"
   ]
  },
  {
   "cell_type": "markdown",
   "id": "ea2d6ac3",
   "metadata": {},
   "source": [
    "<link rel=\"stylesheet\" href=\"style.css\">\n",
    "<div class=\"card\" dir=\"rtl\" style=\"background: #f9fafb; border: 2px solid #059669;\">\n",
    "  <h3 style=\"color: #047857;\">خودمون رو بسنجیم</h3>\n",
    "  <p>\n",
    "      این بخش برای این طراحی شده که در پایان مطالعه این اسلاید، بتونی خودت رو محک بزنی و ببینی\n",
    "    آیا مفاهیم رو به خوبی یاد گرفتی یا نه. سوالات زیر رو مرور کن و سعی کن بدون نگاه کردن به متن\n",
    "    درس، به اون ها پاسخ بدی. \n",
    "  </p>\n",
    "\n",
    "  <ul>\n",
    "    <li>تفاوت‌هایی که بین کلیدواژه‌های throw و throws وجود داره چه مواردی هستن؟</li>\n",
    "    <li>بین استثناهای مختلف، کدوم حالتشون باید اعلان بشه؟</li>\n",
    "    <li>مهم‌ترین مزیت مدیریت استثنائات چیه؟</li>\n",
    "  </ul>\n",
    "\n",
    "  <hr class=\"divider\" />\n",
    "\n",
    "  <div style=\"text-align: center; padding: 1.5rem; border-radius: 12px; background: white; border: 1px dashed rgba(4,120,87,0.4); max-width: 300px; margin: 0 auto;\">\n",
    "    <h4 style=\"margin: 0; font-size: 1.4rem; color: #dc2626;\">پایان</h4>\n",
    "    <p style=\"margin-top: 0.5rem; font-weight: 500; color: #374151;\">در صورت هرگونه سوال یا پیشنهاد میتونید با من در ارتباط باشید :)</p>\n",
    "    <p>gmail: sarashiri0906@gmail.com</p>\n",
    "  </div>\n",
    "</div>\n",
    "<br></br>"
   ]
  }
 ],
 "metadata": {
  "kernelspec": {
   "display_name": "Python 3 (ipykernel)",
   "language": "python",
   "name": "python3"
  },
  "language_info": {
   "codemirror_mode": {
    "name": "ipython",
    "version": 3
   },
   "file_extension": ".py",
   "mimetype": "text/x-python",
   "name": "python",
   "nbconvert_exporter": "python",
   "pygments_lexer": "ipython3",
   "version": "3.13.0"
  }
 },
 "nbformat": 4,
 "nbformat_minor": 5
}
